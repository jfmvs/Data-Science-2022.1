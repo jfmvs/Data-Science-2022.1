{
  "nbformat": 4,
  "nbformat_minor": 0,
  "metadata": {
    "colab": {
      "name": "Steam_Games",
      "provenance": [],
      "authorship_tag": "ABX9TyPPhjbF0srEikGFqjNG+a4M",
      "include_colab_link": true
    },
    "kernelspec": {
      "name": "python3",
      "display_name": "Python 3"
    },
    "language_info": {
      "name": "python"
    }
  },
  "cells": [
    {
      "cell_type": "markdown",
      "metadata": {
        "id": "view-in-github",
        "colab_type": "text"
      },
      "source": [
        "<a href=\"https://colab.research.google.com/github/jfmvs/Steam-Games/blob/main/Steam_Games.ipynb\" target=\"_parent\"><img src=\"https://colab.research.google.com/assets/colab-badge.svg\" alt=\"Open In Colab\"/></a>"
      ]
    },
    {
      "cell_type": "code",
      "execution_count": null,
      "metadata": {
        "id": "ytmAWHk1WDJE"
      },
      "outputs": [],
      "source": [
        "import pandas as pd\n",
        "import matplotlib as mat"
      ]
    },
    {
      "cell_type": "code",
      "source": [
        "dataset = pd.read_csv('https://raw.githubusercontent.com/jfmvs/Criptos/main/data/crypto/1m/BCH-USD-2017-1m.csv?token=GHSAT0AAAAAABWSTSTFP4COWS622TUDMI2GYWVTA6Q')"
      ],
      "metadata": {
        "id": "yGzpEzLQWNmq"
      },
      "execution_count": null,
      "outputs": []
    },
    {
      "cell_type": "code",
      "source": [
        "dataset['cripto'] = 'BCH' "
      ],
      "metadata": {
        "id": "I4dX9Vm0WiSn"
      },
      "execution_count": null,
      "outputs": []
    },
    {
      "cell_type": "code",
      "source": [
        "dataset.Date.max(),dataset.Date.min(\n",
        ")"
      ],
      "metadata": {
        "colab": {
          "base_uri": "https://localhost:8080/"
        },
        "id": "w1qtmNAxa7i_",
        "outputId": "50bcaad1-4b88-4ab1-9f85-b9b2f99e115c"
      },
      "execution_count": null,
      "outputs": [
        {
          "output_type": "execute_result",
          "data": {
            "text/plain": [
              "('2017-12-31 23:59:00', '2017-12-04 15:03:00')"
            ]
          },
          "metadata": {},
          "execution_count": 10
        }
      ]
    }
  ]
}
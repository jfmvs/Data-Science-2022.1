{
  "cells": [
    {
      "cell_type": "code",
      "execution_count": null,
      "metadata": {
        "id": "k3zE8tpX7sNd"
      },
      "outputs": [],
      "source": [
        "import pandas as pd\n",
        "import matplotlib.pyplot as plt\n",
        "data = pd.read_csv('https://raw.githubusercontent.com/jfmvs/Microbes-Classification/main/microbes.csv', index_col = 'Unnamed: 0')"
      ]
    },
    {
      "cell_type": "code",
      "execution_count": null,
      "metadata": {
        "colab": {
          "base_uri": "https://localhost:8080/",
          "height": 300
        },
        "id": "I9wQ0t0A8y9-",
        "outputId": "44e62994-5cf6-4882-9d72-f3184ef710a0"
      },
      "outputs": [
        {
          "data": {
            "text/html": [
              "\n",
              "  <div id=\"df-f4a33bd8-a87e-40d5-85ed-33ca1fdbcae1\">\n",
              "    <div class=\"colab-df-container\">\n",
              "      <div>\n",
              "<style scoped>\n",
              "    .dataframe tbody tr th:only-of-type {\n",
              "        vertical-align: middle;\n",
              "    }\n",
              "\n",
              "    .dataframe tbody tr th {\n",
              "        vertical-align: top;\n",
              "    }\n",
              "\n",
              "    .dataframe thead th {\n",
              "        text-align: right;\n",
              "    }\n",
              "</style>\n",
              "<table border=\"1\" class=\"dataframe\">\n",
              "  <thead>\n",
              "    <tr style=\"text-align: right;\">\n",
              "      <th></th>\n",
              "      <th>Solidity</th>\n",
              "      <th>Eccentricity</th>\n",
              "      <th>EquivDiameter</th>\n",
              "      <th>Extrema</th>\n",
              "      <th>FilledArea</th>\n",
              "      <th>Extent</th>\n",
              "      <th>Orientation</th>\n",
              "      <th>EulerNumber</th>\n",
              "      <th>BoundingBox1</th>\n",
              "      <th>BoundingBox2</th>\n",
              "      <th>...</th>\n",
              "      <th>ConvexHull4</th>\n",
              "      <th>MajorAxisLength</th>\n",
              "      <th>MinorAxisLength</th>\n",
              "      <th>Perimeter</th>\n",
              "      <th>ConvexArea</th>\n",
              "      <th>Centroid1</th>\n",
              "      <th>Centroid2</th>\n",
              "      <th>Area</th>\n",
              "      <th>raddi</th>\n",
              "      <th>microorganisms</th>\n",
              "    </tr>\n",
              "  </thead>\n",
              "  <tbody>\n",
              "    <tr>\n",
              "      <th>0</th>\n",
              "      <td>10.70</td>\n",
              "      <td>15.8</td>\n",
              "      <td>5.43</td>\n",
              "      <td>3.75</td>\n",
              "      <td>0.785</td>\n",
              "      <td>8.14</td>\n",
              "      <td>2.15</td>\n",
              "      <td>22.3</td>\n",
              "      <td>2.97</td>\n",
              "      <td>10.90</td>\n",
              "      <td>...</td>\n",
              "      <td>2.97</td>\n",
              "      <td>1.34</td>\n",
              "      <td>1.61</td>\n",
              "      <td>0.683</td>\n",
              "      <td>0.195</td>\n",
              "      <td>3.63</td>\n",
              "      <td>12.10</td>\n",
              "      <td>1.310</td>\n",
              "      <td>7.99</td>\n",
              "      <td>Spirogyra</td>\n",
              "    </tr>\n",
              "    <tr>\n",
              "      <th>1</th>\n",
              "      <td>5.60</td>\n",
              "      <td>18.3</td>\n",
              "      <td>4.14</td>\n",
              "      <td>6.16</td>\n",
              "      <td>0.364</td>\n",
              "      <td>3.51</td>\n",
              "      <td>18.60</td>\n",
              "      <td>22.5</td>\n",
              "      <td>5.41</td>\n",
              "      <td>19.20</td>\n",
              "      <td>...</td>\n",
              "      <td>5.47</td>\n",
              "      <td>1.52</td>\n",
              "      <td>1.52</td>\n",
              "      <td>1.010</td>\n",
              "      <td>0.215</td>\n",
              "      <td>6.01</td>\n",
              "      <td>20.60</td>\n",
              "      <td>0.765</td>\n",
              "      <td>7.99</td>\n",
              "      <td>Spirogyra</td>\n",
              "    </tr>\n",
              "    <tr>\n",
              "      <th>2</th>\n",
              "      <td>8.32</td>\n",
              "      <td>19.8</td>\n",
              "      <td>4.63</td>\n",
              "      <td>6.66</td>\n",
              "      <td>0.415</td>\n",
              "      <td>5.85</td>\n",
              "      <td>21.00</td>\n",
              "      <td>22.4</td>\n",
              "      <td>5.96</td>\n",
              "      <td>10.20</td>\n",
              "      <td>...</td>\n",
              "      <td>5.96</td>\n",
              "      <td>1.63</td>\n",
              "      <td>1.38</td>\n",
              "      <td>1.110</td>\n",
              "      <td>0.182</td>\n",
              "      <td>6.55</td>\n",
              "      <td>11.50</td>\n",
              "      <td>0.953</td>\n",
              "      <td>7.99</td>\n",
              "      <td>Spirogyra</td>\n",
              "    </tr>\n",
              "    <tr>\n",
              "      <th>3</th>\n",
              "      <td>10.10</td>\n",
              "      <td>17.9</td>\n",
              "      <td>7.29</td>\n",
              "      <td>11.10</td>\n",
              "      <td>1.470</td>\n",
              "      <td>6.30</td>\n",
              "      <td>9.94</td>\n",
              "      <td>21.9</td>\n",
              "      <td>8.81</td>\n",
              "      <td>10.70</td>\n",
              "      <td>...</td>\n",
              "      <td>8.88</td>\n",
              "      <td>2.04</td>\n",
              "      <td>2.12</td>\n",
              "      <td>0.715</td>\n",
              "      <td>0.371</td>\n",
              "      <td>10.30</td>\n",
              "      <td>12.00</td>\n",
              "      <td>2.340</td>\n",
              "      <td>7.99</td>\n",
              "      <td>Spirogyra</td>\n",
              "    </tr>\n",
              "    <tr>\n",
              "      <th>4</th>\n",
              "      <td>6.27</td>\n",
              "      <td>20.2</td>\n",
              "      <td>20.10</td>\n",
              "      <td>10.70</td>\n",
              "      <td>14.700</td>\n",
              "      <td>3.97</td>\n",
              "      <td>2.58</td>\n",
              "      <td>11.9</td>\n",
              "      <td>10.20</td>\n",
              "      <td>1.22</td>\n",
              "      <td>...</td>\n",
              "      <td>10.20</td>\n",
              "      <td>7.78</td>\n",
              "      <td>6.21</td>\n",
              "      <td>6.800</td>\n",
              "      <td>4.440</td>\n",
              "      <td>14.00</td>\n",
              "      <td>9.55</td>\n",
              "      <td>17.600</td>\n",
              "      <td>7.99</td>\n",
              "      <td>Spirogyra</td>\n",
              "    </tr>\n",
              "  </tbody>\n",
              "</table>\n",
              "<p>5 rows × 25 columns</p>\n",
              "</div>\n",
              "      <button class=\"colab-df-convert\" onclick=\"convertToInteractive('df-f4a33bd8-a87e-40d5-85ed-33ca1fdbcae1')\"\n",
              "              title=\"Convert this dataframe to an interactive table.\"\n",
              "              style=\"display:none;\">\n",
              "        \n",
              "  <svg xmlns=\"http://www.w3.org/2000/svg\" height=\"24px\"viewBox=\"0 0 24 24\"\n",
              "       width=\"24px\">\n",
              "    <path d=\"M0 0h24v24H0V0z\" fill=\"none\"/>\n",
              "    <path d=\"M18.56 5.44l.94 2.06.94-2.06 2.06-.94-2.06-.94-.94-2.06-.94 2.06-2.06.94zm-11 1L8.5 8.5l.94-2.06 2.06-.94-2.06-.94L8.5 2.5l-.94 2.06-2.06.94zm10 10l.94 2.06.94-2.06 2.06-.94-2.06-.94-.94-2.06-.94 2.06-2.06.94z\"/><path d=\"M17.41 7.96l-1.37-1.37c-.4-.4-.92-.59-1.43-.59-.52 0-1.04.2-1.43.59L10.3 9.45l-7.72 7.72c-.78.78-.78 2.05 0 2.83L4 21.41c.39.39.9.59 1.41.59.51 0 1.02-.2 1.41-.59l7.78-7.78 2.81-2.81c.8-.78.8-2.07 0-2.86zM5.41 20L4 18.59l7.72-7.72 1.47 1.35L5.41 20z\"/>\n",
              "  </svg>\n",
              "      </button>\n",
              "      \n",
              "  <style>\n",
              "    .colab-df-container {\n",
              "      display:flex;\n",
              "      flex-wrap:wrap;\n",
              "      gap: 12px;\n",
              "    }\n",
              "\n",
              "    .colab-df-convert {\n",
              "      background-color: #E8F0FE;\n",
              "      border: none;\n",
              "      border-radius: 50%;\n",
              "      cursor: pointer;\n",
              "      display: none;\n",
              "      fill: #1967D2;\n",
              "      height: 32px;\n",
              "      padding: 0 0 0 0;\n",
              "      width: 32px;\n",
              "    }\n",
              "\n",
              "    .colab-df-convert:hover {\n",
              "      background-color: #E2EBFA;\n",
              "      box-shadow: 0px 1px 2px rgba(60, 64, 67, 0.3), 0px 1px 3px 1px rgba(60, 64, 67, 0.15);\n",
              "      fill: #174EA6;\n",
              "    }\n",
              "\n",
              "    [theme=dark] .colab-df-convert {\n",
              "      background-color: #3B4455;\n",
              "      fill: #D2E3FC;\n",
              "    }\n",
              "\n",
              "    [theme=dark] .colab-df-convert:hover {\n",
              "      background-color: #434B5C;\n",
              "      box-shadow: 0px 1px 3px 1px rgba(0, 0, 0, 0.15);\n",
              "      filter: drop-shadow(0px 1px 2px rgba(0, 0, 0, 0.3));\n",
              "      fill: #FFFFFF;\n",
              "    }\n",
              "  </style>\n",
              "\n",
              "      <script>\n",
              "        const buttonEl =\n",
              "          document.querySelector('#df-f4a33bd8-a87e-40d5-85ed-33ca1fdbcae1 button.colab-df-convert');\n",
              "        buttonEl.style.display =\n",
              "          google.colab.kernel.accessAllowed ? 'block' : 'none';\n",
              "\n",
              "        async function convertToInteractive(key) {\n",
              "          const element = document.querySelector('#df-f4a33bd8-a87e-40d5-85ed-33ca1fdbcae1');\n",
              "          const dataTable =\n",
              "            await google.colab.kernel.invokeFunction('convertToInteractive',\n",
              "                                                     [key], {});\n",
              "          if (!dataTable) return;\n",
              "\n",
              "          const docLinkHtml = 'Like what you see? Visit the ' +\n",
              "            '<a target=\"_blank\" href=https://colab.research.google.com/notebooks/data_table.ipynb>data table notebook</a>'\n",
              "            + ' to learn more about interactive tables.';\n",
              "          element.innerHTML = '';\n",
              "          dataTable['output_type'] = 'display_data';\n",
              "          await google.colab.output.renderOutput(dataTable, element);\n",
              "          const docLink = document.createElement('div');\n",
              "          docLink.innerHTML = docLinkHtml;\n",
              "          element.appendChild(docLink);\n",
              "        }\n",
              "      </script>\n",
              "    </div>\n",
              "  </div>\n",
              "  "
            ],
            "text/plain": [
              "   Solidity  Eccentricity  EquivDiameter  Extrema  FilledArea  Extent  \\\n",
              "0     10.70          15.8           5.43     3.75       0.785    8.14   \n",
              "1      5.60          18.3           4.14     6.16       0.364    3.51   \n",
              "2      8.32          19.8           4.63     6.66       0.415    5.85   \n",
              "3     10.10          17.9           7.29    11.10       1.470    6.30   \n",
              "4      6.27          20.2          20.10    10.70      14.700    3.97   \n",
              "\n",
              "   Orientation  EulerNumber  BoundingBox1  BoundingBox2  ...  ConvexHull4  \\\n",
              "0         2.15         22.3          2.97         10.90  ...         2.97   \n",
              "1        18.60         22.5          5.41         19.20  ...         5.47   \n",
              "2        21.00         22.4          5.96         10.20  ...         5.96   \n",
              "3         9.94         21.9          8.81         10.70  ...         8.88   \n",
              "4         2.58         11.9         10.20          1.22  ...        10.20   \n",
              "\n",
              "   MajorAxisLength  MinorAxisLength  Perimeter  ConvexArea  Centroid1  \\\n",
              "0             1.34             1.61      0.683       0.195       3.63   \n",
              "1             1.52             1.52      1.010       0.215       6.01   \n",
              "2             1.63             1.38      1.110       0.182       6.55   \n",
              "3             2.04             2.12      0.715       0.371      10.30   \n",
              "4             7.78             6.21      6.800       4.440      14.00   \n",
              "\n",
              "   Centroid2    Area  raddi  microorganisms  \n",
              "0      12.10   1.310   7.99       Spirogyra  \n",
              "1      20.60   0.765   7.99       Spirogyra  \n",
              "2      11.50   0.953   7.99       Spirogyra  \n",
              "3      12.00   2.340   7.99       Spirogyra  \n",
              "4       9.55  17.600   7.99       Spirogyra  \n",
              "\n",
              "[5 rows x 25 columns]"
            ]
          },
          "execution_count": 24,
          "metadata": {},
          "output_type": "execute_result"
        }
      ],
      "source": [
        "data.head()"
      ]
    },
    {
      "cell_type": "code",
      "execution_count": null,
      "metadata": {
        "colab": {
          "base_uri": "https://localhost:8080/"
        },
        "id": "kwJeKvH699IL",
        "outputId": "9eed5f1c-1e85-4b2e-b75c-95e1cb2bf7e0"
      },
      "outputs": [
        {
          "name": "stdout",
          "output_type": "stream",
          "text": [
            "<class 'pandas.core.frame.DataFrame'>\n",
            "Int64Index: 30527 entries, 0 to 30526\n",
            "Data columns (total 25 columns):\n",
            " #   Column           Non-Null Count  Dtype  \n",
            "---  ------           --------------  -----  \n",
            " 0   Solidity         30527 non-null  float64\n",
            " 1   Eccentricity     30527 non-null  float64\n",
            " 2   EquivDiameter    30527 non-null  float64\n",
            " 3   Extrema          30527 non-null  float64\n",
            " 4   FilledArea       30527 non-null  float64\n",
            " 5   Extent           30527 non-null  float64\n",
            " 6   Orientation      30527 non-null  float64\n",
            " 7   EulerNumber      30527 non-null  float64\n",
            " 8   BoundingBox1     30527 non-null  float64\n",
            " 9   BoundingBox2     30527 non-null  float64\n",
            " 10  BoundingBox3     30527 non-null  float64\n",
            " 11  BoundingBox4     30527 non-null  float64\n",
            " 12  ConvexHull1      30527 non-null  float64\n",
            " 13  ConvexHull2      30527 non-null  float64\n",
            " 14  ConvexHull3      30527 non-null  float64\n",
            " 15  ConvexHull4      30527 non-null  float64\n",
            " 16  MajorAxisLength  30527 non-null  float64\n",
            " 17  MinorAxisLength  30527 non-null  float64\n",
            " 18  Perimeter        30527 non-null  float64\n",
            " 19  ConvexArea       30527 non-null  float64\n",
            " 20  Centroid1        30527 non-null  float64\n",
            " 21  Centroid2        30527 non-null  float64\n",
            " 22  Area             30527 non-null  float64\n",
            " 23  raddi            30527 non-null  float64\n",
            " 24  microorganisms   30527 non-null  object \n",
            "dtypes: float64(24), object(1)\n",
            "memory usage: 6.1+ MB\n"
          ]
        }
      ],
      "source": [
        "data.info()"
      ]
    },
    {
      "cell_type": "code",
      "execution_count": null,
      "metadata": {
        "colab": {
          "base_uri": "https://localhost:8080/",
          "height": 802
        },
        "id": "wQktz27P-Ovd",
        "outputId": "2ee0475d-0bb4-4e7b-f0e3-7e7bc65eec9c"
      },
      "outputs": [
        {
          "data": {
            "text/html": [
              "\n",
              "  <div id=\"df-f9ceb1da-0c9b-48fb-a351-d08f7d3f3de1\">\n",
              "    <div class=\"colab-df-container\">\n",
              "      <div>\n",
              "<style scoped>\n",
              "    .dataframe tbody tr th:only-of-type {\n",
              "        vertical-align: middle;\n",
              "    }\n",
              "\n",
              "    .dataframe tbody tr th {\n",
              "        vertical-align: top;\n",
              "    }\n",
              "\n",
              "    .dataframe thead th {\n",
              "        text-align: right;\n",
              "    }\n",
              "</style>\n",
              "<table border=\"1\" class=\"dataframe\">\n",
              "  <thead>\n",
              "    <tr style=\"text-align: right;\">\n",
              "      <th></th>\n",
              "      <th>count</th>\n",
              "      <th>mean</th>\n",
              "      <th>std</th>\n",
              "      <th>min</th>\n",
              "      <th>25%</th>\n",
              "      <th>50%</th>\n",
              "      <th>75%</th>\n",
              "      <th>max</th>\n",
              "    </tr>\n",
              "  </thead>\n",
              "  <tbody>\n",
              "    <tr>\n",
              "      <th>Solidity</th>\n",
              "      <td>30527.0</td>\n",
              "      <td>9.677744</td>\n",
              "      <td>4.063437</td>\n",
              "      <td>0.0</td>\n",
              "      <td>6.5700</td>\n",
              "      <td>9.3500</td>\n",
              "      <td>12.6000</td>\n",
              "      <td>23.0</td>\n",
              "    </tr>\n",
              "    <tr>\n",
              "      <th>Eccentricity</th>\n",
              "      <td>30527.0</td>\n",
              "      <td>19.466921</td>\n",
              "      <td>3.479828</td>\n",
              "      <td>0.0</td>\n",
              "      <td>17.3000</td>\n",
              "      <td>20.7000</td>\n",
              "      <td>22.2000</td>\n",
              "      <td>23.0</td>\n",
              "    </tr>\n",
              "    <tr>\n",
              "      <th>EquivDiameter</th>\n",
              "      <td>30527.0</td>\n",
              "      <td>3.633348</td>\n",
              "      <td>2.210851</td>\n",
              "      <td>0.0</td>\n",
              "      <td>2.1800</td>\n",
              "      <td>3.3800</td>\n",
              "      <td>4.5800</td>\n",
              "      <td>23.0</td>\n",
              "    </tr>\n",
              "    <tr>\n",
              "      <th>Extrema</th>\n",
              "      <td>30527.0</td>\n",
              "      <td>11.871832</td>\n",
              "      <td>6.045135</td>\n",
              "      <td>0.0</td>\n",
              "      <td>6.7900</td>\n",
              "      <td>12.0000</td>\n",
              "      <td>17.2000</td>\n",
              "      <td>23.0</td>\n",
              "    </tr>\n",
              "    <tr>\n",
              "      <th>FilledArea</th>\n",
              "      <td>30527.0</td>\n",
              "      <td>0.420022</td>\n",
              "      <td>0.875091</td>\n",
              "      <td>0.0</td>\n",
              "      <td>0.0937</td>\n",
              "      <td>0.2290</td>\n",
              "      <td>0.4345</td>\n",
              "      <td>23.0</td>\n",
              "    </tr>\n",
              "    <tr>\n",
              "      <th>Extent</th>\n",
              "      <td>30527.0</td>\n",
              "      <td>5.840625</td>\n",
              "      <td>3.250999</td>\n",
              "      <td>0.0</td>\n",
              "      <td>3.2800</td>\n",
              "      <td>5.2600</td>\n",
              "      <td>7.8500</td>\n",
              "      <td>23.0</td>\n",
              "    </tr>\n",
              "    <tr>\n",
              "      <th>Orientation</th>\n",
              "      <td>30527.0</td>\n",
              "      <td>11.751004</td>\n",
              "      <td>6.575319</td>\n",
              "      <td>0.0</td>\n",
              "      <td>6.0050</td>\n",
              "      <td>12.1000</td>\n",
              "      <td>17.2000</td>\n",
              "      <td>23.0</td>\n",
              "    </tr>\n",
              "    <tr>\n",
              "      <th>EulerNumber</th>\n",
              "      <td>30527.0</td>\n",
              "      <td>22.380901</td>\n",
              "      <td>0.962906</td>\n",
              "      <td>0.0</td>\n",
              "      <td>22.3000</td>\n",
              "      <td>22.6000</td>\n",
              "      <td>22.9000</td>\n",
              "      <td>23.0</td>\n",
              "    </tr>\n",
              "    <tr>\n",
              "      <th>BoundingBox1</th>\n",
              "      <td>30527.0</td>\n",
              "      <td>10.919027</td>\n",
              "      <td>6.093280</td>\n",
              "      <td>0.0</td>\n",
              "      <td>5.6900</td>\n",
              "      <td>10.9000</td>\n",
              "      <td>15.8000</td>\n",
              "      <td>23.0</td>\n",
              "    </tr>\n",
              "    <tr>\n",
              "      <th>BoundingBox2</th>\n",
              "      <td>30527.0</td>\n",
              "      <td>10.399429</td>\n",
              "      <td>5.797144</td>\n",
              "      <td>0.0</td>\n",
              "      <td>5.7300</td>\n",
              "      <td>10.0000</td>\n",
              "      <td>14.9000</td>\n",
              "      <td>23.0</td>\n",
              "    </tr>\n",
              "    <tr>\n",
              "      <th>BoundingBox3</th>\n",
              "      <td>30527.0</td>\n",
              "      <td>2.085481</td>\n",
              "      <td>2.166312</td>\n",
              "      <td>0.0</td>\n",
              "      <td>0.8490</td>\n",
              "      <td>1.5000</td>\n",
              "      <td>2.6600</td>\n",
              "      <td>23.0</td>\n",
              "    </tr>\n",
              "    <tr>\n",
              "      <th>BoundingBox4</th>\n",
              "      <td>30527.0</td>\n",
              "      <td>2.640499</td>\n",
              "      <td>2.488448</td>\n",
              "      <td>0.0</td>\n",
              "      <td>1.1500</td>\n",
              "      <td>1.9400</td>\n",
              "      <td>3.3800</td>\n",
              "      <td>23.0</td>\n",
              "    </tr>\n",
              "    <tr>\n",
              "      <th>ConvexHull1</th>\n",
              "      <td>30527.0</td>\n",
              "      <td>11.113760</td>\n",
              "      <td>6.033357</td>\n",
              "      <td>0.0</td>\n",
              "      <td>5.9800</td>\n",
              "      <td>11.1000</td>\n",
              "      <td>16.0000</td>\n",
              "      <td>23.0</td>\n",
              "    </tr>\n",
              "    <tr>\n",
              "      <th>ConvexHull2</th>\n",
              "      <td>30527.0</td>\n",
              "      <td>11.113760</td>\n",
              "      <td>6.033357</td>\n",
              "      <td>0.0</td>\n",
              "      <td>5.9800</td>\n",
              "      <td>11.1000</td>\n",
              "      <td>16.0000</td>\n",
              "      <td>23.0</td>\n",
              "    </tr>\n",
              "    <tr>\n",
              "      <th>ConvexHull3</th>\n",
              "      <td>30527.0</td>\n",
              "      <td>11.046482</td>\n",
              "      <td>6.089508</td>\n",
              "      <td>0.0</td>\n",
              "      <td>5.7900</td>\n",
              "      <td>11.0000</td>\n",
              "      <td>15.9000</td>\n",
              "      <td>23.0</td>\n",
              "    </tr>\n",
              "    <tr>\n",
              "      <th>ConvexHull4</th>\n",
              "      <td>30527.0</td>\n",
              "      <td>11.021988</td>\n",
              "      <td>6.089467</td>\n",
              "      <td>0.0</td>\n",
              "      <td>5.7550</td>\n",
              "      <td>11.0000</td>\n",
              "      <td>15.9000</td>\n",
              "      <td>23.0</td>\n",
              "    </tr>\n",
              "    <tr>\n",
              "      <th>MajorAxisLength</th>\n",
              "      <td>30527.0</td>\n",
              "      <td>1.605159</td>\n",
              "      <td>1.662537</td>\n",
              "      <td>0.0</td>\n",
              "      <td>0.6350</td>\n",
              "      <td>1.1600</td>\n",
              "      <td>2.0700</td>\n",
              "      <td>23.0</td>\n",
              "    </tr>\n",
              "    <tr>\n",
              "      <th>MinorAxisLength</th>\n",
              "      <td>30527.0</td>\n",
              "      <td>1.014179</td>\n",
              "      <td>1.224326</td>\n",
              "      <td>0.0</td>\n",
              "      <td>0.4210</td>\n",
              "      <td>0.7450</td>\n",
              "      <td>1.2200</td>\n",
              "      <td>23.0</td>\n",
              "    </tr>\n",
              "    <tr>\n",
              "      <th>Perimeter</th>\n",
              "      <td>30527.0</td>\n",
              "      <td>0.829416</td>\n",
              "      <td>1.152165</td>\n",
              "      <td>0.0</td>\n",
              "      <td>0.2530</td>\n",
              "      <td>0.5180</td>\n",
              "      <td>0.9680</td>\n",
              "      <td>23.0</td>\n",
              "    </tr>\n",
              "    <tr>\n",
              "      <th>ConvexArea</th>\n",
              "      <td>30527.0</td>\n",
              "      <td>0.254596</td>\n",
              "      <td>0.971035</td>\n",
              "      <td>0.0</td>\n",
              "      <td>0.0347</td>\n",
              "      <td>0.0857</td>\n",
              "      <td>0.2000</td>\n",
              "      <td>23.0</td>\n",
              "    </tr>\n",
              "    <tr>\n",
              "      <th>Centroid1</th>\n",
              "      <td>30527.0</td>\n",
              "      <td>11.752783</td>\n",
              "      <td>6.029756</td>\n",
              "      <td>0.0</td>\n",
              "      <td>6.5700</td>\n",
              "      <td>12.1000</td>\n",
              "      <td>16.9000</td>\n",
              "      <td>23.0</td>\n",
              "    </tr>\n",
              "    <tr>\n",
              "      <th>Centroid2</th>\n",
              "      <td>30527.0</td>\n",
              "      <td>11.554286</td>\n",
              "      <td>5.700637</td>\n",
              "      <td>0.0</td>\n",
              "      <td>7.1100</td>\n",
              "      <td>11.2000</td>\n",
              "      <td>16.2000</td>\n",
              "      <td>23.0</td>\n",
              "    </tr>\n",
              "    <tr>\n",
              "      <th>Area</th>\n",
              "      <td>30527.0</td>\n",
              "      <td>0.802780</td>\n",
              "      <td>1.170430</td>\n",
              "      <td>0.0</td>\n",
              "      <td>0.2180</td>\n",
              "      <td>0.5140</td>\n",
              "      <td>0.9340</td>\n",
              "      <td>23.0</td>\n",
              "    </tr>\n",
              "    <tr>\n",
              "      <th>raddi</th>\n",
              "      <td>30527.0</td>\n",
              "      <td>5.214598</td>\n",
              "      <td>2.805199</td>\n",
              "      <td>0.0</td>\n",
              "      <td>3.0800</td>\n",
              "      <td>5.3200</td>\n",
              "      <td>7.0500</td>\n",
              "      <td>23.0</td>\n",
              "    </tr>\n",
              "  </tbody>\n",
              "</table>\n",
              "</div>\n",
              "      <button class=\"colab-df-convert\" onclick=\"convertToInteractive('df-f9ceb1da-0c9b-48fb-a351-d08f7d3f3de1')\"\n",
              "              title=\"Convert this dataframe to an interactive table.\"\n",
              "              style=\"display:none;\">\n",
              "        \n",
              "  <svg xmlns=\"http://www.w3.org/2000/svg\" height=\"24px\"viewBox=\"0 0 24 24\"\n",
              "       width=\"24px\">\n",
              "    <path d=\"M0 0h24v24H0V0z\" fill=\"none\"/>\n",
              "    <path d=\"M18.56 5.44l.94 2.06.94-2.06 2.06-.94-2.06-.94-.94-2.06-.94 2.06-2.06.94zm-11 1L8.5 8.5l.94-2.06 2.06-.94-2.06-.94L8.5 2.5l-.94 2.06-2.06.94zm10 10l.94 2.06.94-2.06 2.06-.94-2.06-.94-.94-2.06-.94 2.06-2.06.94z\"/><path d=\"M17.41 7.96l-1.37-1.37c-.4-.4-.92-.59-1.43-.59-.52 0-1.04.2-1.43.59L10.3 9.45l-7.72 7.72c-.78.78-.78 2.05 0 2.83L4 21.41c.39.39.9.59 1.41.59.51 0 1.02-.2 1.41-.59l7.78-7.78 2.81-2.81c.8-.78.8-2.07 0-2.86zM5.41 20L4 18.59l7.72-7.72 1.47 1.35L5.41 20z\"/>\n",
              "  </svg>\n",
              "      </button>\n",
              "      \n",
              "  <style>\n",
              "    .colab-df-container {\n",
              "      display:flex;\n",
              "      flex-wrap:wrap;\n",
              "      gap: 12px;\n",
              "    }\n",
              "\n",
              "    .colab-df-convert {\n",
              "      background-color: #E8F0FE;\n",
              "      border: none;\n",
              "      border-radius: 50%;\n",
              "      cursor: pointer;\n",
              "      display: none;\n",
              "      fill: #1967D2;\n",
              "      height: 32px;\n",
              "      padding: 0 0 0 0;\n",
              "      width: 32px;\n",
              "    }\n",
              "\n",
              "    .colab-df-convert:hover {\n",
              "      background-color: #E2EBFA;\n",
              "      box-shadow: 0px 1px 2px rgba(60, 64, 67, 0.3), 0px 1px 3px 1px rgba(60, 64, 67, 0.15);\n",
              "      fill: #174EA6;\n",
              "    }\n",
              "\n",
              "    [theme=dark] .colab-df-convert {\n",
              "      background-color: #3B4455;\n",
              "      fill: #D2E3FC;\n",
              "    }\n",
              "\n",
              "    [theme=dark] .colab-df-convert:hover {\n",
              "      background-color: #434B5C;\n",
              "      box-shadow: 0px 1px 3px 1px rgba(0, 0, 0, 0.15);\n",
              "      filter: drop-shadow(0px 1px 2px rgba(0, 0, 0, 0.3));\n",
              "      fill: #FFFFFF;\n",
              "    }\n",
              "  </style>\n",
              "\n",
              "      <script>\n",
              "        const buttonEl =\n",
              "          document.querySelector('#df-f9ceb1da-0c9b-48fb-a351-d08f7d3f3de1 button.colab-df-convert');\n",
              "        buttonEl.style.display =\n",
              "          google.colab.kernel.accessAllowed ? 'block' : 'none';\n",
              "\n",
              "        async function convertToInteractive(key) {\n",
              "          const element = document.querySelector('#df-f9ceb1da-0c9b-48fb-a351-d08f7d3f3de1');\n",
              "          const dataTable =\n",
              "            await google.colab.kernel.invokeFunction('convertToInteractive',\n",
              "                                                     [key], {});\n",
              "          if (!dataTable) return;\n",
              "\n",
              "          const docLinkHtml = 'Like what you see? Visit the ' +\n",
              "            '<a target=\"_blank\" href=https://colab.research.google.com/notebooks/data_table.ipynb>data table notebook</a>'\n",
              "            + ' to learn more about interactive tables.';\n",
              "          element.innerHTML = '';\n",
              "          dataTable['output_type'] = 'display_data';\n",
              "          await google.colab.output.renderOutput(dataTable, element);\n",
              "          const docLink = document.createElement('div');\n",
              "          docLink.innerHTML = docLinkHtml;\n",
              "          element.appendChild(docLink);\n",
              "        }\n",
              "      </script>\n",
              "    </div>\n",
              "  </div>\n",
              "  "
            ],
            "text/plain": [
              "                   count       mean       std  min      25%      50%      75%  \\\n",
              "Solidity         30527.0   9.677744  4.063437  0.0   6.5700   9.3500  12.6000   \n",
              "Eccentricity     30527.0  19.466921  3.479828  0.0  17.3000  20.7000  22.2000   \n",
              "EquivDiameter    30527.0   3.633348  2.210851  0.0   2.1800   3.3800   4.5800   \n",
              "Extrema          30527.0  11.871832  6.045135  0.0   6.7900  12.0000  17.2000   \n",
              "FilledArea       30527.0   0.420022  0.875091  0.0   0.0937   0.2290   0.4345   \n",
              "Extent           30527.0   5.840625  3.250999  0.0   3.2800   5.2600   7.8500   \n",
              "Orientation      30527.0  11.751004  6.575319  0.0   6.0050  12.1000  17.2000   \n",
              "EulerNumber      30527.0  22.380901  0.962906  0.0  22.3000  22.6000  22.9000   \n",
              "BoundingBox1     30527.0  10.919027  6.093280  0.0   5.6900  10.9000  15.8000   \n",
              "BoundingBox2     30527.0  10.399429  5.797144  0.0   5.7300  10.0000  14.9000   \n",
              "BoundingBox3     30527.0   2.085481  2.166312  0.0   0.8490   1.5000   2.6600   \n",
              "BoundingBox4     30527.0   2.640499  2.488448  0.0   1.1500   1.9400   3.3800   \n",
              "ConvexHull1      30527.0  11.113760  6.033357  0.0   5.9800  11.1000  16.0000   \n",
              "ConvexHull2      30527.0  11.113760  6.033357  0.0   5.9800  11.1000  16.0000   \n",
              "ConvexHull3      30527.0  11.046482  6.089508  0.0   5.7900  11.0000  15.9000   \n",
              "ConvexHull4      30527.0  11.021988  6.089467  0.0   5.7550  11.0000  15.9000   \n",
              "MajorAxisLength  30527.0   1.605159  1.662537  0.0   0.6350   1.1600   2.0700   \n",
              "MinorAxisLength  30527.0   1.014179  1.224326  0.0   0.4210   0.7450   1.2200   \n",
              "Perimeter        30527.0   0.829416  1.152165  0.0   0.2530   0.5180   0.9680   \n",
              "ConvexArea       30527.0   0.254596  0.971035  0.0   0.0347   0.0857   0.2000   \n",
              "Centroid1        30527.0  11.752783  6.029756  0.0   6.5700  12.1000  16.9000   \n",
              "Centroid2        30527.0  11.554286  5.700637  0.0   7.1100  11.2000  16.2000   \n",
              "Area             30527.0   0.802780  1.170430  0.0   0.2180   0.5140   0.9340   \n",
              "raddi            30527.0   5.214598  2.805199  0.0   3.0800   5.3200   7.0500   \n",
              "\n",
              "                  max  \n",
              "Solidity         23.0  \n",
              "Eccentricity     23.0  \n",
              "EquivDiameter    23.0  \n",
              "Extrema          23.0  \n",
              "FilledArea       23.0  \n",
              "Extent           23.0  \n",
              "Orientation      23.0  \n",
              "EulerNumber      23.0  \n",
              "BoundingBox1     23.0  \n",
              "BoundingBox2     23.0  \n",
              "BoundingBox3     23.0  \n",
              "BoundingBox4     23.0  \n",
              "ConvexHull1      23.0  \n",
              "ConvexHull2      23.0  \n",
              "ConvexHull3      23.0  \n",
              "ConvexHull4      23.0  \n",
              "MajorAxisLength  23.0  \n",
              "MinorAxisLength  23.0  \n",
              "Perimeter        23.0  \n",
              "ConvexArea       23.0  \n",
              "Centroid1        23.0  \n",
              "Centroid2        23.0  \n",
              "Area             23.0  \n",
              "raddi            23.0  "
            ]
          },
          "execution_count": 63,
          "metadata": {},
          "output_type": "execute_result"
        }
      ],
      "source": [
        "data.describe().T"
      ]
    },
    {
      "cell_type": "code",
      "execution_count": null,
      "metadata": {
        "colab": {
          "base_uri": "https://localhost:8080/"
        },
        "id": "GJk4_Oh__eW_",
        "outputId": "58971b40-f48a-4752-9851-27a4cb4339dc"
      },
      "outputs": [
        {
          "data": {
            "text/plain": [
              "Solidity            883\n",
              "Eccentricity        247\n",
              "EquivDiameter       953\n",
              "Extrema             750\n",
              "FilledArea         1601\n",
              "Extent             1001\n",
              "Orientation        1075\n",
              "EulerNumber          81\n",
              "BoundingBox1        781\n",
              "BoundingBox2        637\n",
              "BoundingBox3        518\n",
              "BoundingBox4        505\n",
              "ConvexHull1         775\n",
              "ConvexHull2         775\n",
              "ConvexHull3         793\n",
              "ConvexHull4         860\n",
              "MajorAxisLength    1298\n",
              "MinorAxisLength    1286\n",
              "Perimeter          1414\n",
              "ConvexArea         1796\n",
              "Centroid1           976\n",
              "Centroid2           958\n",
              "Area               1525\n",
              "raddi               410\n",
              "microorganisms       10\n",
              "dtype: int64"
            ]
          },
          "execution_count": 64,
          "metadata": {},
          "output_type": "execute_result"
        }
      ],
      "source": [
        "data.nunique()"
      ]
    },
    {
      "cell_type": "markdown",
      "source": [
        "Podemos ver que os dados estão completos e não precisam de qualquer limpeza"
      ],
      "metadata": {
        "id": "iWcT6m5Q2-MJ"
      }
    },
    {
      "cell_type": "markdown",
      "metadata": {
        "id": "-Cjz1R6mV800"
      },
      "source": [
        "## Pré-processamento e escolha dos modelos"
      ]
    },
    {
      "cell_type": "code",
      "execution_count": 116,
      "metadata": {
        "id": "rONYe_y8_isE"
      },
      "outputs": [],
      "source": [
        "from sklearn.model_selection import train_test_split\n",
        "from sklearn.preprocessing import LabelEncoder\n",
        "le = LabelEncoder()\n",
        "X = data.drop('microorganisms', axis=1)\n",
        "y = le.fit_transform(data['microorganisms'])\n",
        "X_train, X_test, y_train, y_test= train_test_split(X, y, test_size = 0.2, stratify = y)\n",
        "X_train, X_valid, y_train, y_valid= train_test_split(X_train, y_train, test_size = 0.1, stratify = y_train)"
      ]
    },
    {
      "cell_type": "code",
      "execution_count": 117,
      "metadata": {
        "id": "aEDQTJEAikHz"
      },
      "outputs": [],
      "source": [
        "from sklearn.preprocessing import StandardScaler\n",
        "std = StandardScaler()\n",
        "X_train = std.fit_transform(X_train)\n",
        "X_valid = std.fit_transform(X_valid)\n",
        "X_test = std.transform(X_test)"
      ]
    },
    {
      "cell_type": "code",
      "execution_count": 97,
      "metadata": {
        "id": "Al6kfab1k-r4"
      },
      "outputs": [],
      "source": [
        "from sklearn.tree import DecisionTreeClassifier\n",
        "from sklearn.neighbors import KNeighborsClassifier\n",
        "from sklearn.ensemble import RandomForestClassifier\n",
        "from sklearn.neural_network import MLPClassifier\n"
      ]
    },
    {
      "cell_type": "markdown",
      "source": [
        "## Inicializando ML Flow"
      ],
      "metadata": {
        "id": "6wS6xGCu2wd2"
      }
    },
    {
      "cell_type": "code",
      "execution_count": null,
      "metadata": {
        "colab": {
          "base_uri": "https://localhost:8080/"
        },
        "id": "_XUe8421nuEq",
        "outputId": "9f21217e-af48-49ad-b9e1-54fa9ea36608"
      },
      "outputs": [
        {
          "name": "stdout",
          "output_type": "stream",
          "text": [
            "Looking in indexes: https://pypi.org/simple, https://us-python.pkg.dev/colab-wheels/public/simple/\n",
            "Requirement already satisfied: mlflow in /usr/local/lib/python3.7/dist-packages (1.29.0)\n",
            "Requirement already satisfied: importlib-metadata!=4.7.0,<5,>=3.7.0 in /usr/local/lib/python3.7/dist-packages (from mlflow) (4.12.0)\n",
            "Requirement already satisfied: numpy<2 in /usr/local/lib/python3.7/dist-packages (from mlflow) (1.21.6)\n",
            "Requirement already satisfied: click<9,>=7.0 in /usr/local/lib/python3.7/dist-packages (from mlflow) (7.1.2)\n",
            "Requirement already satisfied: sqlalchemy<2,>=1.4.0 in /usr/local/lib/python3.7/dist-packages (from mlflow) (1.4.41)\n",
            "Requirement already satisfied: gunicorn<21 in /usr/local/lib/python3.7/dist-packages (from mlflow) (20.1.0)\n",
            "Requirement already satisfied: packaging<22 in /usr/local/lib/python3.7/dist-packages (from mlflow) (21.3)\n",
            "Requirement already satisfied: querystring-parser<2 in /usr/local/lib/python3.7/dist-packages (from mlflow) (1.2.4)\n",
            "Requirement already satisfied: docker<7,>=4.0.0 in /usr/local/lib/python3.7/dist-packages (from mlflow) (6.0.0)\n",
            "Requirement already satisfied: prometheus-flask-exporter<1 in /usr/local/lib/python3.7/dist-packages (from mlflow) (0.20.3)\n",
            "Requirement already satisfied: scipy<2 in /usr/local/lib/python3.7/dist-packages (from mlflow) (1.7.3)\n",
            "Requirement already satisfied: databricks-cli<1,>=0.8.7 in /usr/local/lib/python3.7/dist-packages (from mlflow) (0.17.3)\n",
            "Requirement already satisfied: gitpython<4,>=2.1.0 in /usr/local/lib/python3.7/dist-packages (from mlflow) (3.1.27)\n",
            "Requirement already satisfied: protobuf<5,>=3.12.0 in /usr/local/lib/python3.7/dist-packages (from mlflow) (3.17.3)\n",
            "Requirement already satisfied: requests<3,>=2.17.3 in /usr/local/lib/python3.7/dist-packages (from mlflow) (2.28.1)\n",
            "Requirement already satisfied: pandas<2 in /usr/local/lib/python3.7/dist-packages (from mlflow) (1.3.5)\n",
            "Requirement already satisfied: Flask<3 in /usr/local/lib/python3.7/dist-packages (from mlflow) (1.1.4)\n",
            "Requirement already satisfied: entrypoints<1 in /usr/local/lib/python3.7/dist-packages (from mlflow) (0.4)\n",
            "Requirement already satisfied: sqlparse<1,>=0.4.0 in /usr/local/lib/python3.7/dist-packages (from mlflow) (0.4.2)\n",
            "Requirement already satisfied: alembic<2 in /usr/local/lib/python3.7/dist-packages (from mlflow) (1.8.1)\n",
            "Requirement already satisfied: cloudpickle<3 in /usr/local/lib/python3.7/dist-packages (from mlflow) (1.5.0)\n",
            "Requirement already satisfied: pytz<2023 in /usr/local/lib/python3.7/dist-packages (from mlflow) (2022.2.1)\n",
            "Requirement already satisfied: pyyaml<7,>=5.1 in /usr/local/lib/python3.7/dist-packages (from mlflow) (6.0)\n",
            "Requirement already satisfied: importlib-resources in /usr/local/lib/python3.7/dist-packages (from alembic<2->mlflow) (5.9.0)\n",
            "Requirement already satisfied: Mako in /usr/local/lib/python3.7/dist-packages (from alembic<2->mlflow) (1.2.3)\n",
            "Requirement already satisfied: tabulate>=0.7.7 in /usr/local/lib/python3.7/dist-packages (from databricks-cli<1,>=0.8.7->mlflow) (0.8.10)\n",
            "Requirement already satisfied: six>=1.10.0 in /usr/local/lib/python3.7/dist-packages (from databricks-cli<1,>=0.8.7->mlflow) (1.15.0)\n",
            "Requirement already satisfied: oauthlib>=3.1.0 in /usr/local/lib/python3.7/dist-packages (from databricks-cli<1,>=0.8.7->mlflow) (3.2.0)\n",
            "Requirement already satisfied: pyjwt>=1.7.0 in /usr/local/lib/python3.7/dist-packages (from databricks-cli<1,>=0.8.7->mlflow) (2.5.0)\n",
            "Requirement already satisfied: websocket-client>=0.32.0 in /usr/local/lib/python3.7/dist-packages (from docker<7,>=4.0.0->mlflow) (1.4.1)\n",
            "Requirement already satisfied: urllib3>=1.26.0 in /usr/local/lib/python3.7/dist-packages (from docker<7,>=4.0.0->mlflow) (1.26.12)\n",
            "Requirement already satisfied: itsdangerous<2.0,>=0.24 in /usr/local/lib/python3.7/dist-packages (from Flask<3->mlflow) (1.1.0)\n",
            "Requirement already satisfied: Jinja2<3.0,>=2.10.1 in /usr/local/lib/python3.7/dist-packages (from Flask<3->mlflow) (2.11.3)\n",
            "Requirement already satisfied: Werkzeug<2.0,>=0.15 in /usr/local/lib/python3.7/dist-packages (from Flask<3->mlflow) (1.0.1)\n",
            "Requirement already satisfied: typing-extensions>=3.7.4.3 in /usr/local/lib/python3.7/dist-packages (from gitpython<4,>=2.1.0->mlflow) (4.1.1)\n",
            "Requirement already satisfied: gitdb<5,>=4.0.1 in /usr/local/lib/python3.7/dist-packages (from gitpython<4,>=2.1.0->mlflow) (4.0.9)\n",
            "Requirement already satisfied: smmap<6,>=3.0.1 in /usr/local/lib/python3.7/dist-packages (from gitdb<5,>=4.0.1->gitpython<4,>=2.1.0->mlflow) (5.0.0)\n",
            "Requirement already satisfied: setuptools>=3.0 in /usr/local/lib/python3.7/dist-packages (from gunicorn<21->mlflow) (57.4.0)\n",
            "Requirement already satisfied: zipp>=0.5 in /usr/local/lib/python3.7/dist-packages (from importlib-metadata!=4.7.0,<5,>=3.7.0->mlflow) (3.8.1)\n",
            "Requirement already satisfied: MarkupSafe>=0.23 in /usr/local/lib/python3.7/dist-packages (from Jinja2<3.0,>=2.10.1->Flask<3->mlflow) (2.0.1)\n",
            "Requirement already satisfied: pyparsing!=3.0.5,>=2.0.2 in /usr/local/lib/python3.7/dist-packages (from packaging<22->mlflow) (3.0.9)\n",
            "Requirement already satisfied: python-dateutil>=2.7.3 in /usr/local/lib/python3.7/dist-packages (from pandas<2->mlflow) (2.8.2)\n",
            "Requirement already satisfied: prometheus-client in /usr/local/lib/python3.7/dist-packages (from prometheus-flask-exporter<1->mlflow) (0.14.1)\n",
            "Requirement already satisfied: charset-normalizer<3,>=2 in /usr/local/lib/python3.7/dist-packages (from requests<3,>=2.17.3->mlflow) (2.1.1)\n",
            "Requirement already satisfied: certifi>=2017.4.17 in /usr/local/lib/python3.7/dist-packages (from requests<3,>=2.17.3->mlflow) (2022.6.15)\n",
            "Requirement already satisfied: idna<4,>=2.5 in /usr/local/lib/python3.7/dist-packages (from requests<3,>=2.17.3->mlflow) (2.10)\n",
            "Requirement already satisfied: greenlet!=0.4.17 in /usr/local/lib/python3.7/dist-packages (from sqlalchemy<2,>=1.4.0->mlflow) (1.1.3)\n",
            "Looking in indexes: https://pypi.org/simple, https://us-python.pkg.dev/colab-wheels/public/simple/\n",
            "Collecting pyngrok\n",
            "  Downloading pyngrok-5.1.0.tar.gz (745 kB)\n",
            "\u001b[K     |████████████████████████████████| 745 kB 5.1 MB/s \n",
            "\u001b[?25hRequirement already satisfied: PyYAML in /usr/local/lib/python3.7/dist-packages (from pyngrok) (6.0)\n",
            "Building wheels for collected packages: pyngrok\n",
            "  Building wheel for pyngrok (setup.py) ... \u001b[?25l\u001b[?25hdone\n",
            "  Created wheel for pyngrok: filename=pyngrok-5.1.0-py3-none-any.whl size=19007 sha256=ba00f3c5a1d9c8394f95e9beafae35d33abc241ab7b633ec5731d662462138cb\n",
            "  Stored in directory: /root/.cache/pip/wheels/bf/e6/af/ccf6598ecefecd44104069371795cb9b3afbcd16987f6ccfb3\n",
            "Successfully built pyngrok\n",
            "Installing collected packages: pyngrok\n",
            "Successfully installed pyngrok-5.1.0\n"
          ]
        }
      ],
      "source": [
        "!pip install mlflow\n",
        "!pip install pyngrok"
      ]
    },
    {
      "cell_type": "code",
      "execution_count": null,
      "metadata": {
        "colab": {
          "base_uri": "https://localhost:8080/"
        },
        "id": "5RcQ7f7on4ZQ",
        "outputId": "186cf7ed-48c2-4b27-9291-22f7b00599b5"
      },
      "outputs": [
        {
          "data": {
            "text/plain": [
              "<Experiment: artifact_location='file:///content/mlruns/1', creation_time=1664851213058, experiment_id='1', last_update_time=1664851213058, lifecycle_stage='active', name='Demo', tags={}>"
            ]
          },
          "execution_count": 51,
          "metadata": {},
          "output_type": "execute_result"
        }
      ],
      "source": [
        "import numpy as np\n",
        "import mlflow\n",
        "import mlflow.sklearn\n",
        "import sys\n",
        "import os\n",
        "mlflow.set_experiment('Demo')"
      ]
    },
    {
      "cell_type": "code",
      "execution_count": null,
      "metadata": {
        "id": "YJFcjLy9sAkY"
      },
      "outputs": [],
      "source": [
        "from sklearn.metrics import mean_squared_error, mean_absolute_error, r2_score\n",
        "def eval_metrics(actual, pred):\n",
        "    rmse = np.sqrt(mean_squared_error(actual, pred))\n",
        "    mae = mean_absolute_error(actual, pred)\n",
        "    r2 = r2_score(actual, pred)\n",
        "    return rmse, mae, r2"
      ]
    },
    {
      "cell_type": "code",
      "execution_count": 98,
      "metadata": {
        "id": "Q-Ryw4Ldvmx8"
      },
      "outputs": [],
      "source": [
        "def train_model(modelo, parametros = {}):\n",
        "  with mlflow.start_run():\n",
        "        if modelo == 'kNN':\n",
        "          model = KNeighborsClassifier(**parametros)\n",
        "        elif modelo == 'decision_tree':\n",
        "          model = DecisionTreeClassifier(**parametros)\n",
        "        elif modelo == 'forest':\n",
        "          model = RandomForestClassifier(**parametros)\n",
        "        elif modelo == 'mlp':\n",
        "          model = MLPClassifier(**parametros)\n",
        "        model.fit(X_train,y_train)\n",
        "        predicted_qualities = model.predict(X_test)\n",
        "\n",
        "        (rmse, mae, r2) = eval_metrics(y_test, predicted_qualities)\n",
        "\n",
        "        print(modelo, parametros)\n",
        "        print(\"  RMSE: %s\" % rmse)\n",
        "        print(\"  MAE: %s\" % mae)\n",
        "        print(\"  R2: %s\" % r2)\n",
        "\n",
        "        mlflow.log_param(\"Parametros\", parametros)\n",
        "        mlflow.log_metric(\"rmse\", rmse)\n",
        "        mlflow.log_metric(\"r2\", r2)\n",
        "        mlflow.log_metric(\"mae\", mae)\n",
        "\n",
        "        mlflow.sklearn.log_model(model, \"model\")"
      ]
    },
    {
      "cell_type": "code",
      "execution_count": 99,
      "metadata": {
        "colab": {
          "base_uri": "https://localhost:8080/"
        },
        "id": "tJQsBZ8H6LDv",
        "outputId": "14efd3ee-ead4-40fd-9659-2c9122b9fa6d"
      },
      "outputs": [
        {
          "output_type": "stream",
          "name": "stdout",
          "text": [
            "kNN {}\n",
            "  RMSE: 1.3637485189463148\n",
            "  MAE: 0.3327874222076646\n",
            "  R2: 0.7903795517043773\n",
            "decision_tree {}\n",
            "  RMSE: 2.442559911055606\n",
            "  MAE: 1.1200458565345561\n",
            "  R2: 0.3275569469037303\n",
            "forest {}\n",
            "  RMSE: 1.3803995016468025\n",
            "  MAE: 0.3987880773010154\n",
            "  R2: 0.7852294896160998\n"
          ]
        },
        {
          "output_type": "stream",
          "name": "stderr",
          "text": [
            "/usr/local/lib/python3.7/dist-packages/sklearn/neural_network/_multilayer_perceptron.py:696: ConvergenceWarning: Stochastic Optimizer: Maximum iterations (200) reached and the optimization hasn't converged yet.\n",
            "  ConvergenceWarning,\n"
          ]
        },
        {
          "output_type": "stream",
          "name": "stdout",
          "text": [
            "mlp {}\n",
            "  RMSE: 2.248156794972029\n",
            "  MAE: 0.9566000655093351\n",
            "  R2: 0.43033668062247166\n"
          ]
        }
      ],
      "source": [
        "train_model('kNN')\n",
        "train_model('decision_tree')\n",
        "train_model('forest')\n",
        "train_model('mlp')"
      ]
    },
    {
      "cell_type": "code",
      "execution_count": null,
      "metadata": {
        "id": "dfcCJV9c-iJ9"
      },
      "outputs": [],
      "source": []
    },
    {
      "cell_type": "code",
      "execution_count": 143,
      "metadata": {
        "colab": {
          "base_uri": "https://localhost:8080/"
        },
        "id": "RsK1Zbck0IRP",
        "outputId": "4eac31db-d30a-48d5-bedc-d73fb79782ef"
      },
      "outputs": [
        {
          "output_type": "stream",
          "name": "stdout",
          "text": [
            "MLflow Tracking UI http://5e02-35-194-55-247.ngrok.io\n"
          ]
        }
      ],
      "source": [
        "from pyngrok import ngrok\n",
        "ngrok.kill()\n",
        "ngrok_tunnel = ngrok.connect(add='5000',proto='http',bind_tsl=True)\n",
        "print('MLflow Tracking UI',ngrok_tunnel.public_url)"
      ]
    },
    {
      "cell_type": "code",
      "execution_count": 144,
      "metadata": {
        "colab": {
          "base_uri": "https://localhost:8080/"
        },
        "id": "KeumFgv2zrv3",
        "outputId": "056d02ac-6fd7-4b4b-f5e9-56fd5b0ef6cb"
      },
      "outputs": [
        {
          "output_type": "stream",
          "name": "stdout",
          "text": [
            "[2022-10-04 07:16:38 +0000] [3334] [INFO] Starting gunicorn 20.1.0\n",
            "[2022-10-04 07:16:38 +0000] [3334] [INFO] Listening at: http://127.0.0.1:5000 (3334)\n",
            "[2022-10-04 07:16:38 +0000] [3334] [INFO] Using worker: sync\n",
            "[2022-10-04 07:16:38 +0000] [3337] [INFO] Booting worker with pid: 3337\n",
            "[2022-10-04 07:16:43 +0000] [3334] [INFO] Handling signal: int\n",
            "[2022-10-04 07:16:43 +0000] [3337] [INFO] Worker exiting (pid: 3337)\n",
            "\n",
            "Aborted!\n",
            "[2022-10-04 07:16:43 +0000] [3334] [INFO] Shutting down: Master\n"
          ]
        }
      ],
      "source": [
        "!mlflow ui"
      ]
    },
    {
      "cell_type": "markdown",
      "source": [
        "## Testando os 4 tipos de modelos"
      ],
      "metadata": {
        "id": "LS8y8Cox2h2N"
      }
    },
    {
      "cell_type": "markdown",
      "metadata": {
        "id": "fzWCUJnsNVkD"
      },
      "source": [
        "### K Nearest Neighbors "
      ]
    },
    {
      "cell_type": "code",
      "execution_count": null,
      "metadata": {
        "colab": {
          "base_uri": "https://localhost:8080/"
        },
        "id": "zOxkmBfRBgbW",
        "outputId": "b7f3c69a-6e33-4611-80c0-ae3b270d01d7"
      },
      "outputs": [
        {
          "name": "stdout",
          "output_type": "stream",
          "text": [
            "Fitting 3 folds for each of 128 candidates, totalling 384 fits\n"
          ]
        },
        {
          "name": "stderr",
          "output_type": "stream",
          "text": [
            "/usr/local/lib/python3.7/dist-packages/joblib/externals/loky/process_executor.py:705: UserWarning: A worker stopped while some jobs were given to the executor. This can be caused by a too short worker timeout or by a memory leak.\n",
            "  \"timeout or by a memory leak.\", UserWarning\n"
          ]
        },
        {
          "data": {
            "text/plain": [
              "GridSearchCV(cv=3, estimator=KNeighborsClassifier(), n_jobs=-1,\n",
              "             param_grid={'algorithm': ['auto', 'ball_tree', 'kd_tree', 'brute'],\n",
              "                         'n_neighbors': [4, 5, 6, 7, 8, 9, 10, 11, 12, 13, 14,\n",
              "                                         15, 16, 17, 18, 19],\n",
              "                         'weights': ['uniform', 'distance']},\n",
              "             scoring='accuracy', verbose=3)"
            ]
          },
          "execution_count": 78,
          "metadata": {},
          "output_type": "execute_result"
        }
      ],
      "source": [
        "from sklearn.model_selection import GridSearchCV\n",
        "parameters_0 = {\n",
        "    'weights':['uniform', 'distance'],\n",
        "    'algorithm':['auto', 'ball_tree', 'kd_tree', 'brute'],\n",
        "    'n_neighbors': list(range(4, 20))\n",
        "}\n",
        "grid_search_knn = GridSearchCV(KNeighborsClassifier(), \n",
        "                    parameters_0,\n",
        "                    scoring  = \"accuracy\",\n",
        "                    n_jobs= -1, \n",
        "                    verbose=3,\n",
        "                    cv = 3)\n",
        "\n",
        "grid_search_knn.fit(X_train, y_train)"
      ]
    },
    {
      "cell_type": "code",
      "execution_count": null,
      "metadata": {
        "colab": {
          "base_uri": "https://localhost:8080/"
        },
        "id": "oCWNv4chME7d",
        "outputId": "dd9884a1-5403-4d44-a5c0-7328e8717e21"
      },
      "outputs": [
        {
          "name": "stdout",
          "output_type": "stream",
          "text": [
            "Accuracy test: 0.9788732394366197\n"
          ]
        }
      ],
      "source": [
        "best_params_knn = grid_search_knn.best_params_\n",
        "modelo_knn = KNeighborsClassifier(**best_params_knn)\n",
        "modelo_knn.fit(X_train,y_train)\n",
        "print(\"Accuracy test:\",modelo_knn.score(X_test, y_test))"
      ]
    },
    {
      "cell_type": "markdown",
      "metadata": {
        "id": "YHP13y9xNYyU"
      },
      "source": [
        "### Decision Tree"
      ]
    },
    {
      "cell_type": "code",
      "execution_count": null,
      "metadata": {
        "colab": {
          "base_uri": "https://localhost:8080/"
        },
        "id": "mCdAttXKNbGT",
        "outputId": "fc259e11-3783-442c-b7bc-ce6530c35d79"
      },
      "outputs": [
        {
          "name": "stdout",
          "output_type": "stream",
          "text": [
            "Fitting 3 folds for each of 44 candidates, totalling 132 fits\n"
          ]
        },
        {
          "data": {
            "text/plain": [
              "GridSearchCV(cv=3, estimator=DecisionTreeClassifier(), n_jobs=-1,\n",
              "             param_grid={'max_depth': [13, 14, 15, 16, 17, 18, 19, 20, 21, 22,\n",
              "                                       23, 24, 25, 26, 27, 28, 29, 30, 31, 32,\n",
              "                                       33, 34],\n",
              "                         'splitter': ['best', 'random']},\n",
              "             scoring='accuracy', verbose=3)"
            ]
          },
          "execution_count": 81,
          "metadata": {},
          "output_type": "execute_result"
        }
      ],
      "source": [
        "parameters = {\n",
        "    'splitter': ['best', 'random'],\n",
        "    'max_depth': list(range(13, 35))\n",
        "}\n",
        "\n",
        "grid_search_tree = GridSearchCV(DecisionTreeClassifier(), \n",
        "                    parameters,\n",
        "                    scoring  = \"accuracy\",\n",
        "                    n_jobs= -1, \n",
        "                    verbose=3,\n",
        "                    cv = 3)\n",
        "\n",
        "grid_search_tree.fit(X_train, y_train)"
      ]
    },
    {
      "cell_type": "code",
      "execution_count": null,
      "metadata": {
        "colab": {
          "base_uri": "https://localhost:8080/"
        },
        "id": "xipRjZizNna_",
        "outputId": "079e3028-195b-4a7f-864d-4aac2d7c2b0f"
      },
      "outputs": [
        {
          "name": "stdout",
          "output_type": "stream",
          "text": [
            "Accuracy test: 0.7299377661316737\n"
          ]
        }
      ],
      "source": [
        "best_params_dtree = grid_search_tree.best_params_\n",
        "modelo_tree = DecisionTreeClassifier(**best_params_dtree)\n",
        "modelo_tree.fit(X_train,y_train)\n",
        "print(\"Accuracy test:\",modelo_tree.score(X_test, y_test))"
      ]
    },
    {
      "cell_type": "markdown",
      "metadata": {
        "id": "gXEsmHJHOFn-"
      },
      "source": [
        "### Random Forest"
      ]
    },
    {
      "cell_type": "code",
      "execution_count": 100,
      "metadata": {
        "id": "aJo4CU5bOI4f",
        "colab": {
          "base_uri": "https://localhost:8080/"
        },
        "outputId": "b331ea2c-7fa4-4c66-9bd9-662704096d85"
      },
      "outputs": [
        {
          "output_type": "stream",
          "name": "stdout",
          "text": [
            "Fitting 3 folds for each of 8 candidates, totalling 24 fits\n"
          ]
        },
        {
          "output_type": "execute_result",
          "data": {
            "text/plain": [
              "GridSearchCV(cv=3, estimator=RandomForestClassifier(), n_jobs=-1,\n",
              "             param_grid={'n_estimators': [4, 5, 6, 7, 8, 9, 10, 11]},\n",
              "             scoring='accuracy', verbose=3)"
            ]
          },
          "metadata": {},
          "execution_count": 100
        }
      ],
      "source": [
        "parameters = {\n",
        "    'n_estimators': list(range(4,12)),\n",
        "}\n",
        "\n",
        "grid_search_forest = GridSearchCV(RandomForestClassifier(), \n",
        "                    parameters,\n",
        "                    scoring  = \"accuracy\",\n",
        "                    n_jobs= -1, \n",
        "                    verbose=3,\n",
        "                    cv = 3)\n",
        "\n",
        "grid_search_forest.fit(X_train, y_train)"
      ]
    },
    {
      "cell_type": "code",
      "execution_count": 101,
      "metadata": {
        "id": "cMQstT54QvOc",
        "colab": {
          "base_uri": "https://localhost:8080/"
        },
        "outputId": "3cb05039-bfda-46e1-f014-3253862c267e"
      },
      "outputs": [
        {
          "output_type": "stream",
          "name": "stdout",
          "text": [
            "Accuracy test: 0.8429413691451032\n"
          ]
        }
      ],
      "source": [
        "best_params_bayes = grid_search_forest.best_params_\n",
        "modelo_forest = RandomForestClassifier(**best_params_bayes)\n",
        "modelo_forest.fit(X_train,y_train)\n",
        "print(\"Accuracy test:\",modelo_forest.score(X_test, y_test))"
      ]
    },
    {
      "cell_type": "markdown",
      "metadata": {
        "id": "SjShaO2lPQhR"
      },
      "source": [
        "### MLP"
      ]
    },
    {
      "cell_type": "code",
      "execution_count": null,
      "metadata": {
        "colab": {
          "background_save": true,
          "base_uri": "https://localhost:8080/"
        },
        "id": "HnitfZGnPSVB",
        "outputId": "ec041482-5fb9-480f-e731-e7b2f7bf27df"
      },
      "outputs": [
        {
          "name": "stdout",
          "output_type": "stream",
          "text": [
            "Fitting 3 folds for each of 16 candidates, totalling 48 fits\n"
          ]
        },
        {
          "data": {
            "text/plain": [
              "GridSearchCV(cv=3, estimator=MLPClassifier(), n_jobs=-1,\n",
              "             param_grid={'activation': ['identity', 'logistic', 'tanh', 'relu'],\n",
              "                         'hidden_layer_sizes': [(160, 210, 195), (100, 180)],\n",
              "                         'solver': ['adam', 'sgd']},\n",
              "             scoring='accuracy', verbose=3)"
            ]
          },
          "execution_count": 86,
          "metadata": {},
          "output_type": "execute_result"
        }
      ],
      "source": [
        "parameters_camadas = {\n",
        "    \"hidden_layer_sizes\": [(160, 210, 195), (100, 180)],\n",
        "    \"activation\": ['identity', 'logistic', 'tanh', 'relu'],    \n",
        "    \"solver\": [\"adam\",'sgd']        \n",
        "}\n",
        "\n",
        "\n",
        "grid_search_camadas = GridSearchCV(MLPClassifier(), \n",
        "                    parameters_camadas,\n",
        "                    scoring  = \"accuracy\",\n",
        "                    n_jobs= -1, \n",
        "                    verbose=3,\n",
        "                    cv = 3)\n",
        "\n",
        "grid_search_camadas.fit(X_train, y_train)"
      ]
    },
    {
      "cell_type": "code",
      "execution_count": 87,
      "metadata": {
        "id": "3hjZoH92PxSb",
        "colab": {
          "base_uri": "https://localhost:8080/"
        },
        "outputId": "d880e106-7317-42e5-d0d1-32e4e0868fec"
      },
      "outputs": [
        {
          "output_type": "stream",
          "name": "stdout",
          "text": [
            "Accuracy test: 0.9821487061906322\n"
          ]
        }
      ],
      "source": [
        "best_params_mlp = grid_search_camadas.best_params_\n",
        "modelo_mlp = MLPClassifier(**best_params_mlp)\n",
        "modelo_mlp.fit(X_train,y_train)\n",
        "print(\"Accuracy test:\",modelo_mlp.score(X_test, y_test))"
      ]
    },
    {
      "cell_type": "code",
      "source": [
        "print(best_params_mlp)"
      ],
      "metadata": {
        "colab": {
          "base_uri": "https://localhost:8080/"
        },
        "id": "GG2FQUAEp8KU",
        "outputId": "9cf7da7e-2a02-4053-acfc-dd0714ce1274"
      },
      "execution_count": 102,
      "outputs": [
        {
          "output_type": "stream",
          "name": "stdout",
          "text": [
            "{'activation': 'tanh', 'hidden_layer_sizes': (160, 210, 195), 'solver': 'adam'}\n"
          ]
        }
      ]
    },
    {
      "cell_type": "markdown",
      "source": [
        "### O modelo MLP é o melhor, logo prosseguiremos com ele"
      ],
      "metadata": {
        "id": "POquwBYspcWk"
      }
    },
    {
      "cell_type": "markdown",
      "source": [
        "## Modelo final e aprimoramento"
      ],
      "metadata": {
        "id": "O5RIbiM12ckI"
      }
    },
    {
      "cell_type": "code",
      "source": [
        "modelo_final = MLPClassifier(hidden_layer_sizes=(160,210,195),activation='tanh',solver='adam')\n",
        "modelo_final.fit(X_train,y_train)"
      ],
      "metadata": {
        "colab": {
          "base_uri": "https://localhost:8080/"
        },
        "id": "SAbkeFNOphLt",
        "outputId": "5f09ed41-792f-4e6a-d452-738ec8696dba"
      },
      "execution_count": 111,
      "outputs": [
        {
          "output_type": "execute_result",
          "data": {
            "text/plain": [
              "MLPClassifier(activation='tanh', hidden_layer_sizes=(160, 210, 195))"
            ]
          },
          "metadata": {},
          "execution_count": 111
        }
      ]
    },
    {
      "cell_type": "code",
      "source": [
        "from sklearn.metrics import accuracy_score\n",
        "ypred = modelo_final.predict(X_test)\n",
        "ypred_train = modelo_final.predict(X_train)\n",
        "print(\"Accuracy training:\",accuracy_score(y_train, ypred_train))\n",
        "print(\"Accuracy test:\",accuracy_score(y_test, ypred))"
      ],
      "metadata": {
        "colab": {
          "base_uri": "https://localhost:8080/"
        },
        "id": "gTl4YS1aq3Cg",
        "outputId": "fd5b79d9-6245-451d-b8fa-871389f8e159"
      },
      "execution_count": 112,
      "outputs": [
        {
          "output_type": "stream",
          "name": "stdout",
          "text": [
            "Accuracy training: 0.9996814996814997\n",
            "Accuracy test: 0.9810022928267278\n"
          ]
        }
      ]
    },
    {
      "cell_type": "markdown",
      "source": [
        "Podemos ver um leve overfitting, adicionaremos então mais dados ao conjunto de treinamento para observarmos o resultado"
      ],
      "metadata": {
        "id": "Rj4uuCqItWQS"
      }
    },
    {
      "cell_type": "code",
      "source": [
        "X_train2, X_test2, y_train2, y_test2= train_test_split(X, y, test_size = 0.2, stratify = y)\n",
        "X_train2 = std.fit_transform(X_train2)\n",
        "X_test2 = std.fit_transform(X_test2)"
      ],
      "metadata": {
        "id": "IUEcopFSq-SO"
      },
      "execution_count": 118,
      "outputs": []
    },
    {
      "cell_type": "code",
      "source": [
        "modelo_final2 = MLPClassifier(hidden_layer_sizes=(160,210,195),activation='tanh',solver='adam')\n",
        "modelo_final2.fit(X_train2,y_train2)"
      ],
      "metadata": {
        "colab": {
          "base_uri": "https://localhost:8080/"
        },
        "id": "u8hFOay3to1O",
        "outputId": "09376868-6786-468a-b4d4-c928750cfaaf"
      },
      "execution_count": 120,
      "outputs": [
        {
          "output_type": "execute_result",
          "data": {
            "text/plain": [
              "MLPClassifier(activation='tanh', hidden_layer_sizes=(160, 210, 195))"
            ]
          },
          "metadata": {},
          "execution_count": 120
        }
      ]
    },
    {
      "cell_type": "code",
      "source": [
        "from sklearn.metrics import accuracy_score\n",
        "ypred = modelo_final2.predict(X_test)\n",
        "ypred_train = modelo_final2.predict(X_train)\n",
        "print(\"Accuracy training:\",accuracy_score(y_train, ypred_train))\n",
        "print(\"Accuracy test:\",accuracy_score(y_test, ypred))"
      ],
      "metadata": {
        "colab": {
          "base_uri": "https://localhost:8080/"
        },
        "id": "hzU8kUTPtxk0",
        "outputId": "987cf587-a355-4194-f616-52a5abd40b51"
      },
      "execution_count": 121,
      "outputs": [
        {
          "output_type": "stream",
          "name": "stdout",
          "text": [
            "Accuracy training: 0.9976339976339976\n",
            "Accuracy test: 0.9972158532590895\n"
          ]
        }
      ]
    },
    {
      "cell_type": "markdown",
      "source": [
        "# Usando k-means para melhor visualização dos dados"
      ],
      "metadata": {
        "id": "stzipCs12VCn"
      }
    },
    {
      "cell_type": "code",
      "source": [
        "from sklearn.decomposition import PCA\n",
        "from sklearn.cluster import KMeans\n",
        "pca = PCA(2)\n",
        "\n",
        "data_r = data\n",
        "data_r['microorganisms'] = le.fit_transform(data_r['microorganisms'])\n",
        "data_c = pca.fit_transform(data_r)\n",
        " \n",
        "data_c.shape"
      ],
      "metadata": {
        "colab": {
          "base_uri": "https://localhost:8080/"
        },
        "id": "Ls5rlaSiuQs1",
        "outputId": "84552e1d-431e-4721-a449-00e226c7bfe1"
      },
      "execution_count": 135,
      "outputs": [
        {
          "output_type": "execute_result",
          "data": {
            "text/plain": [
              "(30527, 2)"
            ]
          },
          "metadata": {},
          "execution_count": 135
        }
      ]
    },
    {
      "cell_type": "code",
      "source": [
        "from sklearn.cluster import KMeans\n",
        " \n",
        "#Initialize the class object\n",
        "m_kmeans = KMeans(n_clusters= 10)\n",
        " \n",
        "#predict the labels of clusters.\n",
        "pred = m_kmeans.fit_predict(data_c)"
      ],
      "metadata": {
        "id": "P3i8epxQ1A-m"
      },
      "execution_count": 136,
      "outputs": []
    },
    {
      "cell_type": "code",
      "source": [
        "centroids = m_kmeans.cluster_centers_\n",
        "u_labels = np.unique(pred)\n",
        " \n",
        "#plotting the results:\n",
        " \n",
        "for i in u_labels:\n",
        "    plt.scatter(data_c[pred == i , 0] , data_c[pred == i , 1] , label = i)\n",
        "plt.scatter(centroids[:,0] , centroids[:,1] , s = 80, color = 'k')\n",
        "plt.legend()\n",
        "plt.show()"
      ],
      "metadata": {
        "colab": {
          "base_uri": "https://localhost:8080/",
          "height": 265
        },
        "id": "yYaFQSoRwPQL",
        "outputId": "f0f4e6d3-b1c2-47f3-b6a8-eff53d8034e0"
      },
      "execution_count": 142,
      "outputs": [
        {
          "output_type": "display_data",
          "data": {
            "text/plain": [
              "<Figure size 432x288 with 1 Axes>"
            ],
            "image/png": "[encoded data removed]"
          },
          "metadata": {
            "needs_background": "light"
          }
        }
      ]
    }
  ],
  "metadata": {
    "colab": {
      "provenance": []
    },
    "kernelspec": {
      "display_name": "Python 3",
      "name": "python3"
    },
    "language_info": {
      "name": "python"
    }
  },
  "nbformat": 4,
  "nbformat_minor": 0
}